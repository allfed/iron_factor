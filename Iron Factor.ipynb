{
 "cells": [
  {
   "cell_type": "code",
   "execution_count": 1,
   "id": "fd1be86b",
   "metadata": {},
   "outputs": [],
   "source": [
    "import pandas as pd\n",
    "import matplotlib.pyplot as plt\n",
    "import numpy as np\n",
    "import math"
   ]
  },
  {
   "cell_type": "code",
   "execution_count": null,
   "id": "2400dacf",
   "metadata": {},
   "outputs": [],
   "source": [
    "def μg_Iron_per_l_to_μmol_Iron_per_m3(μg_Fe_l):\n",
    "    \"\"\"\n",
    "    Converts μg Iron per liter to μmol Iron per m³\n",
    "    Arguments:\n",
    "        μg_Fe_l: float: Iron concentration in μg per l\n",
    "    Returns\n",
    "        float: Iron concentration in μmol per m³\n",
    "    \"\"\"\n",
    "    # Convert from μg to μmol\n",
    "    μmol_Fe_l = μg_Fe_l * 0.0179\n",
    "    # Convert from l to m³\n",
    "    μmol_Fe_m3 = μmol_Fe_l * \n",
    "    "
   ]
  }
 ],
 "metadata": {
  "kernelspec": {
   "display_name": "seaweed",
   "language": "python",
   "name": "seaweed"
  },
  "language_info": {
   "codemirror_mode": {
    "name": "ipython",
    "version": 3
   },
   "file_extension": ".py",
   "mimetype": "text/x-python",
   "name": "python",
   "nbconvert_exporter": "python",
   "pygments_lexer": "ipython3",
   "version": "3.8.13"
  }
 },
 "nbformat": 4,
 "nbformat_minor": 5
}
